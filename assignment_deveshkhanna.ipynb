{
  "nbformat": 4,
  "nbformat_minor": 0,
  "metadata": {
    "colab": {
      "provenance": [],
      "authorship_tag": "ABX9TyNiO4IRNoTCxPouEK19giob",
      "include_colab_link": true
    },
    "kernelspec": {
      "name": "python3",
      "display_name": "Python 3"
    },
    "language_info": {
      "name": "python"
    }
  },
  "cells": [
    {
      "cell_type": "markdown",
      "metadata": {
        "id": "view-in-github",
        "colab_type": "text"
      },
      "source": [
        "<a href=\"https://colab.research.google.com/github/DeveshKhanna7/python_datascience_course_assignment/blob/main/assignment_deveshkhanna.ipynb\" target=\"_parent\"><img src=\"https://colab.research.google.com/assets/colab-badge.svg\" alt=\"Open In Colab\"/></a>"
      ]
    },
    {
      "cell_type": "code",
      "execution_count": 6,
      "metadata": {
        "colab": {
          "base_uri": "https://localhost:8080/"
        },
        "id": "1UjTCzIg69hR",
        "outputId": "9de61c8d-4791-4514-a383-a82fcaa32b58"
      },
      "outputs": [
        {
          "output_type": "stream",
          "name": "stdout",
          "text": [
            "Adding 5 and 10 in list [5, 10]\n",
            "Popped one element from list [5]\n",
            "\n",
            "Adding 5 and 10 in set {10, 5}\n",
            "Removing 5 from set {10}\n",
            "\n",
            "Dictionary {5: 'Five', 10: 'Ten'}\n",
            "Dictionary {5: 'Five'}\n",
            "\n",
            "tuple is  ('apple', 'banana', 'cherry')\n"
          ]
        }
      ],
      "source": [
        "# List\n",
        "l = []\n",
        "# Adding Element\n",
        "l.append(5)\n",
        "l.append(10)\n",
        "print(\"Adding 5 and 10 in list\", l)\n",
        "# Popping \n",
        "l.pop()\n",
        "print(\"Popped one element from list\", l)\n",
        "print()\n",
        " \n",
        "\n",
        "# Set\n",
        "s = set()\n",
        "# Adding element into set\n",
        "s.add(5)\n",
        "s.add(10)\n",
        "print(\"Adding 5 and 10 in set\", s)\n",
        "# Removing element from set\n",
        "s.remove(5)\n",
        "print(\"Removing 5 from set\", s)\n",
        "print()\n",
        " \n",
        "\n",
        "#Dictionary\n",
        "d = {}\n",
        "#Adding key value pair\n",
        "d[5] = \"Five\"\n",
        "d[10] = \"Ten\"\n",
        "print(\"Dictionary\", d)\n",
        "#Removing key-value pair\n",
        "del d[10]\n",
        "print(\"Dictionary\", d)\n",
        "\n",
        "#tuple\n",
        "mytuple = (\"apple\", \"banana\", \"cherry\")\n",
        "print(\"\\ntuple is \", mytuple)"
      ]
    },
    {
      "cell_type": "code",
      "source": [
        "#r+,w+,a+\n",
        "\n",
        "f=open('assignment.txt','r')\n",
        "print(f.read())\n",
        "\n",
        "#r+\n",
        "with open('assignment.txt', 'r+') as f:\n",
        "    f.read()               \n",
        "    f.write(\"i am fine\\n\")"
      ],
      "metadata": {
        "colab": {
          "base_uri": "https://localhost:8080/"
        },
        "id": "orvqfYs59CZY",
        "outputId": "dc11a55d-ee78-493f-d731-a194434390cb"
      },
      "execution_count": 38,
      "outputs": [
        {
          "output_type": "stream",
          "name": "stdout",
          "text": [
            "hey how r u?\n",
            "\n"
          ]
        }
      ]
    },
    {
      "cell_type": "code",
      "source": [
        "f=open('assignment.txt','r')\n",
        "print(f.read())"
      ],
      "metadata": {
        "colab": {
          "base_uri": "https://localhost:8080/"
        },
        "id": "2xa6hZ9NKDUe",
        "outputId": "0b98f997-82ba-4cb4-8946-5a58f13d71d8"
      },
      "execution_count": 40,
      "outputs": [
        {
          "output_type": "stream",
          "name": "stdout",
          "text": [
            "hey how r u?\n",
            "i am fine\n",
            "\n"
          ]
        }
      ]
    },
    {
      "cell_type": "code",
      "source": [
        "with open('assignment.txt', 'w+') as f:   \n",
        "    f.write(\"1\\n\")\n",
        "    f.write(\"2\\n\")\n",
        "    f.write(\"3\\n\")             \n",
        "    f.seek(0)                       \n",
        "    lines = f.read()               \n",
        "    print(lines)                    "
      ],
      "metadata": {
        "colab": {
          "base_uri": "https://localhost:8080/"
        },
        "id": "MVJfe5GfKSzP",
        "outputId": "abe21d54-3047-474d-872a-91097ff72bea"
      },
      "execution_count": 41,
      "outputs": [
        {
          "output_type": "stream",
          "name": "stdout",
          "text": [
            "1\n",
            "2\n",
            "3\n",
            "\n"
          ]
        }
      ]
    },
    {
      "cell_type": "code",
      "source": [
        "f=open('assignment.txt','r')\n",
        "print(f.read())"
      ],
      "metadata": {
        "colab": {
          "base_uri": "https://localhost:8080/"
        },
        "id": "G8SzycRiKnAw",
        "outputId": "d8a890bc-9be0-4a7f-cd67-66f3215f6b6a"
      },
      "execution_count": 42,
      "outputs": [
        {
          "output_type": "stream",
          "name": "stdout",
          "text": [
            "1\n",
            "2\n",
            "3\n"
          ]
        }
      ]
    },
    {
      "cell_type": "code",
      "source": [
        "with open('assignment.txt', 'a+') as f:\n",
        "    f.seek(0)                      \n",
        "    lines = f.readlines()          \n",
        "    f.write(\"\\n\" + str(len(lines))) "
      ],
      "metadata": {
        "id": "lVS3JM9yKrjo"
      },
      "execution_count": 45,
      "outputs": []
    },
    {
      "cell_type": "code",
      "source": [
        "f=open('assignment.txt','r')\n",
        "print(f.read())"
      ],
      "metadata": {
        "colab": {
          "base_uri": "https://localhost:8080/"
        },
        "id": "iBgXHDYbK3CG",
        "outputId": "775dd142-5e43-4ce0-d1be-d9d975ac3043"
      },
      "execution_count": 46,
      "outputs": [
        {
          "output_type": "stream",
          "name": "stdout",
          "text": [
            "1\n",
            "2\n",
            "3\n",
            "hey\n",
            "bye\n",
            "good night\n",
            "6\n"
          ]
        }
      ]
    }
  ]
}